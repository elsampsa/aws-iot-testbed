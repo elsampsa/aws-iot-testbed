{
 "cells": [
  {
   "cell_type": "markdown",
   "id": "b7c84852",
   "metadata": {},
   "source": [
    "Well be giving access to IoT things on a bucket, as described [here](https://docs.aws.amazon.com/iot/latest/developerguide/authorizing-direct-aws.html)\n",
    "\n",
    "Get ready for a hell of a ride!"
   ]
  },
  {
   "cell_type": "code",
   "execution_count": null,
   "id": "9bbe9f6e",
   "metadata": {},
   "outputs": [],
   "source": [
    "%reload_ext autoreload\n",
    "%autoreload 2\n",
    "from pprint import pprint\n",
    "from IPython.core.display import display, HTML, Markdown\n",
    "import ipywidgets as widgets\n",
    "# %run includeme.ipynb # include a notebook from this same directory\n",
    "display(HTML(\"<style>.container { width:100% !important; }</style>\"))"
   ]
  },
  {
   "cell_type": "code",
   "execution_count": null,
   "id": "01116aee",
   "metadata": {},
   "outputs": [],
   "source": [
    "import boto3\n",
    "import base64, json\n",
    "import requests"
   ]
  },
  {
   "cell_type": "code",
   "execution_count": null,
   "id": "acef6626",
   "metadata": {},
   "outputs": [],
   "source": [
    "region = boto3.session.Session().region_name\n",
    "account_id = boto3.resource('iam').CurrentUser().arn.split(':')[4]\n",
    "print(region)\n",
    "print(account_id)"
   ]
  },
  {
   "cell_type": "markdown",
   "id": "357f1843",
   "metadata": {},
   "source": [
    "## Part 1"
   ]
  },
  {
   "cell_type": "markdown",
   "id": "b86c03f2",
   "metadata": {},
   "source": [
    "Role: defines effect (deny/allow), action (what is denied/allowed), resource (..on what)\n",
    "RoleAlias: a copy of a Role that is only valid for a certain time\n",
    "\n",
    "Let's create a Role that allows the creation of security tokens (sts=security token service) by using the credentials service.\n",
    "\n",
    "I *think* that the entities / logic is this:\n",
    "```\n",
    "\n",
    "+--------------------------+  -----> gives creds, according to a role alias\n",
    "|IoT credentials provider  |         \"my-role-alias\"  ---> creds allows stuff according to \n",
    "|server                    |                                        \"my-role-credentials\"\n",
    "|                          |\n",
    "+--------------------------+  <----- request creds according to role alias\n",
    "  - can give creds requested         \"my-role-alias\" --link--> role \"my-role-credentials\"\n",
    "    with certs because role          creds are requested with certificates\n",
    "    because role alias\n",
    "    \"my-role-alias\" has\n",
    "    \"it:AssumeRoleWithCertificate\"\n",
    "    enabled\n",
    "\n",
    "  - can give creds for \"my-role-alias\"\n",
    "    in the first place, since \"my-role-alias\"\n",
    "    role alias \"inherits\" role \"my-role-credentials\"\n",
    "\n",
    "```\n",
    "\n",
    "Go to [aws roles](https://console.aws.amazon.com/iamv2/home#/roles)\n",
    "\n",
    "Create a role (let's call it ``CREDENTIALS_ROLE``) and in the roles \"Trust Relationship\" tab, put this:\n",
    "```\n",
    "{\n",
    "    \"Version\": \"2012-10-17\",\n",
    "    \"Statement\": {\n",
    "        \"Effect\": \"Allow\",\n",
    "        \"Principal\": {\"Service\": \"credentials.iot.amazonaws.com\"},\n",
    "        \"Action\": \"sts:AssumeRole\"\n",
    "    }\n",
    "} \n",
    "```\n",
    "A quote from [here](https://docs.aws.amazon.com/STS/latest/APIReference/API_AssumeRole.html) says \"Returns a set of temporary security credentials that you can use to access AWS resources that you might not normally have access to\".\n",
    "\n",
    "And from [here](https://docs.aws.amazon.com/iot/latest/developerguide/authorizing-direct-aws.html): \"Configure the IAM role that the credentials provider assumes on behalf of your device\"\n",
    "\n",
    "The user that's hacking all this, needs these additional permissions:\n",
    "```\n",
    "{\n",
    "    \"Version\": \"2012-10-17\",\n",
    "    \"Statement\": {\n",
    "        \"Effect\": \"Allow\",\n",
    "        \"Action\": [\n",
    "            \"iam:GetRole\",\n",
    "            \"iam:PassRole\"\n",
    "        ],\n",
    "        \"Resource\": \"arn:aws:iam::263211xxxxxx:role/CREDENTIALS_ROLE\"\n",
    "    }\n",
    "}\n",
    "```\n",
    "So go to [aws users](https://console.aws.amazon.com/iamv2/home#/users) & add an inline policy\n",
    "\n",
    "==> now user has permission to pass this role to other users/services & create aliases\n",
    "==> user can pass the ``CREDENTIALS_ROLE``"
   ]
  },
  {
   "cell_type": "code",
   "execution_count": null,
   "id": "381af4e4",
   "metadata": {},
   "outputs": [],
   "source": [
    "role_name = \"my-role-credentials\"\n",
    "credentials_role_arn = \"arn:aws:iam::{account_id}:role/{role_name}\".format(account_id=account_id, role_name=role_name)\n",
    "credentials_role_alias = \"my-role-alias\"\n",
    "print(\"use this inline policy for users:\")\n",
    "print(\"\"\"{\n",
    "    \"Version\": \"2012-10-17\",\n",
    "    \"Statement\": {\n",
    "        \"Effect\": \"Allow\",\n",
    "        \"Action\": [\n",
    "            \"iam:GetRole\",\n",
    "            \"iam:PassRole\"\n",
    "        ],\n",
    "        \"Resource\": \"%s\"\n",
    "    }\n",
    "}\"\"\" % (credentials_role_arn))"
   ]
  },
  {
   "cell_type": "markdown",
   "id": "e808f04f",
   "metadata": {},
   "source": [
    "Create a \"temporary copy\" of the Role, aka \"Role Alias\":"
   ]
  },
  {
   "cell_type": "code",
   "execution_count": null,
   "id": "b456e8b5",
   "metadata": {},
   "outputs": [],
   "source": [
    "iot_client = boto3.client('iot')\n",
    "try:\n",
    "    response = iot_client.create_role_alias(\n",
    "        roleAlias=credentials_role_alias,\n",
    "        roleArn=credentials_role_arn,\n",
    "        credentialDurationSeconds=900\n",
    "    )\n",
    "except Exception as e:\n",
    "    print(\"got exception '\"+str(e)+\"'\")\n",
    "    print(\"this is still active?\")"
   ]
  },
  {
   "cell_type": "markdown",
   "id": "0a9bf8d6",
   "metadata": {},
   "source": [
    "We still have to \"attach\" that role to the IoT device certificate in question, so go to AWS IoT => Manage => Things\n",
    "\n",
    "There choose a thing and go to it's certificates.  There use \"attach policies\" and create this policy:\n",
    "```\n",
    "{\n",
    "  \"Version\": \"2012-10-17\",\n",
    "  \"Statement\": [\n",
    "    {\n",
    "      \"Effect\": \"Allow\",\n",
    "      \"Action\": \"iot:AssumeRoleWithCertificate\",\n",
    "      \"Resource\": \"arn:aws:iot:us-west-2:263211956751:rolealias/CREDENTIALS_ROLE_ALIAS\"\n",
    "    }\n",
    "  ]\n",
    "}\n",
    "```"
   ]
  },
  {
   "cell_type": "code",
   "execution_count": null,
   "id": "aa562d82",
   "metadata": {},
   "outputs": [],
   "source": [
    "print(\"use this policy for the certificate:\")\n",
    "print(\"\"\"{\"Version\": \"2012-10-17\",\n",
    "  \"Statement\": [\n",
    "    {\n",
    "      \"Effect\": \"Allow\",\n",
    "      \"Action\": \"iot:AssumeRoleWithCertificate\",\n",
    "      \"Resource\": \"arn:aws:iot:%s:%s:rolealias/%s\"\n",
    "    }\n",
    "  ]\n",
    "}\"\"\" % (region, account_id, credentials_role_alias))\n",
    "\n",
    "print(\"here is your link to manage iot:\")\n",
    "print(\"https://{region}.console.aws.amazon.com/iot/home?region={region}#/thinghub\".format(region=region))"
   ]
  },
  {
   "cell_type": "markdown",
   "id": "1f4c4b8e",
   "metadata": {},
   "source": [
    "All set!  Let's request authentication tokes"
   ]
  },
  {
   "cell_type": "code",
   "execution_count": null,
   "id": "48bbbb85",
   "metadata": {},
   "outputs": [],
   "source": [
    "response = iot_client.describe_endpoint(\n",
    "    endpointType='iot:CredentialProvider'\n",
    ")\n",
    "print(response[\"endpointAddress\"])\n",
    "end_point_adr = response[\"endpointAddress\"]"
   ]
  },
  {
   "cell_type": "code",
   "execution_count": null,
   "id": "4a104b32",
   "metadata": {},
   "outputs": [],
   "source": [
    "cert_file =\"../thing1/cert/thing1.cert.pem\"\n",
    "ca_cert_file =\"../thing1/cert/root-CA.crt\"\n",
    "cert_pk_file=\"../thing1/cert/thing1.private.key\"\n",
    "\n",
    "your_thing_name=\"thing1\"\n",
    "\n",
    "cred_endpoint=\"https://\"+end_point_adr+\"/role-aliases/\"+credentials_role_alias+\"/credentials\"\n",
    "print(cred_endpoint)\n",
    "resp = requests.get(\n",
    "    cred_endpoint,\n",
    "    cert=(cert_file, cert_pk_file, ca_cert_file), # files!\n",
    "    headers={\n",
    "        \"x-amzn-iot-thingname\":your_thing_name\n",
    "    }\n",
    ")"
   ]
  },
  {
   "cell_type": "code",
   "execution_count": null,
   "id": "e7d3cb80",
   "metadata": {},
   "outputs": [],
   "source": [
    "print(resp)"
   ]
  },
  {
   "cell_type": "code",
   "execution_count": null,
   "id": "9b9b3b81",
   "metadata": {},
   "outputs": [],
   "source": [
    "creds = json.loads(resp.content)[\"credentials\"]"
   ]
  },
  {
   "cell_type": "markdown",
   "id": "2205b0e0",
   "metadata": {},
   "source": [
    "Congrats, credentials to access various AWS services, based on the IoT device credentials have been obtained!"
   ]
  },
  {
   "cell_type": "markdown",
   "id": "e2321cf7",
   "metadata": {},
   "source": [
    "## Part 2"
   ]
  },
  {
   "cell_type": "code",
   "execution_count": null,
   "id": "133b5d54",
   "metadata": {},
   "outputs": [],
   "source": [
    "s3_client = boto3.resource('s3',\n",
    "    aws_access_key_id=creds[\"accessKeyId\"],\n",
    "    aws_secret_access_key=creds[\"secretAccessKey\"],\n",
    "    aws_session_token=creds['sessionToken'])"
   ]
  },
  {
   "cell_type": "markdown",
   "id": "03b757a6",
   "metadata": {},
   "source": [
    "Need to access a bucket?  You still need to grant your new role bucket rights, so head again to [IAM management](https://console.aws.amazon.com/iamv2/home#/roles/) and add a permission like this:\n",
    "```\n",
    "{\n",
    "    \"Version\": \"2012-10-17\",\n",
    "    \"Statement\": [\n",
    "        {\n",
    "            \"Effect\": \"Allow\",\n",
    "            \"Action\": [\n",
    "                \"s3:ListBucket\"\n",
    "            ],\n",
    "            \"Resource\": \"arn:aws:s3:::BUCKET_NAME\"\n",
    "        },\n",
    "        {\n",
    "            \"Effect\": \"Allow\",\n",
    "            \"Action\": [\n",
    "                \"s3:GetObject\"\n",
    "            ],\n",
    "            \"Resource\": \"arn:aws:s3:::BUCKET_NAME/*\"\n",
    "        }\n",
    "    ]\n",
    "}\n",
    "```"
   ]
  },
  {
   "cell_type": "code",
   "execution_count": null,
   "id": "83554a2b",
   "metadata": {},
   "outputs": [],
   "source": [
    "bucket_name = \"my-test-bucket\""
   ]
  },
  {
   "cell_type": "code",
   "execution_count": null,
   "id": "cb84afab",
   "metadata": {},
   "outputs": [],
   "source": [
    "print(\"use this permission:\")\n",
    "print(\"\"\"{\n",
    "    \"Version\": \"2012-10-17\",\n",
    "    \"Statement\": [\n",
    "        {\n",
    "            \"Effect\": \"Allow\",\n",
    "            \"Action\": [\n",
    "                \"s3:ListBucket\"\n",
    "            ],\n",
    "            \"Resource\": \"arn:aws:s3:::%s\"\n",
    "        },\n",
    "        {\n",
    "            \"Effect\": \"Allow\",\n",
    "            \"Action\": [\n",
    "                \"s3:GetObject\"\n",
    "            ],\n",
    "            \"Resource\": \"arn:aws:s3:::%s/*\"\n",
    "        }\n",
    "    ]\n",
    "}\"\"\" % (bucket_name, bucket_name))"
   ]
  },
  {
   "cell_type": "code",
   "execution_count": null,
   "id": "bacf33e5",
   "metadata": {},
   "outputs": [],
   "source": [
    "b = s3_client.Bucket(bucket_name)\n",
    "for obj in b.objects.all():\n",
    "    print(obj)"
   ]
  },
  {
   "cell_type": "markdown",
   "id": "dee61862",
   "metadata": {},
   "source": [
    "Role aliases can be listed and removed:"
   ]
  },
  {
   "cell_type": "code",
   "execution_count": null,
   "id": "26aa255e",
   "metadata": {},
   "outputs": [],
   "source": [
    "lis = False\n",
    "if lis:\n",
    "    response = iot_client.list_role_aliases()\n",
    "    print(response)"
   ]
  },
  {
   "cell_type": "code",
   "execution_count": null,
   "id": "ae884583",
   "metadata": {},
   "outputs": [],
   "source": [
    "rem = False\n",
    "if rem:\n",
    "    for name in response[\"roleAliases\"]:\n",
    "        iot_client.delete_role_alias(roleAlias=name)"
   ]
  },
  {
   "cell_type": "code",
   "execution_count": null,
   "id": "892e06a8",
   "metadata": {},
   "outputs": [],
   "source": []
  }
 ],
 "metadata": {
  "kernelspec": {
   "display_name": "Python 3",
   "language": "python",
   "name": "python3"
  },
  "language_info": {
   "codemirror_mode": {
    "name": "ipython",
    "version": 3
   },
   "file_extension": ".py",
   "mimetype": "text/x-python",
   "name": "python",
   "nbconvert_exporter": "python",
   "pygments_lexer": "ipython3",
   "version": "3.8.10"
  },
  "varInspector": {
   "cols": {
    "lenName": 16,
    "lenType": 16,
    "lenVar": 40
   },
   "kernels_config": {
    "python": {
     "delete_cmd_postfix": "",
     "delete_cmd_prefix": "del ",
     "library": "var_list.py",
     "varRefreshCmd": "print(var_dic_list())"
    },
    "r": {
     "delete_cmd_postfix": ") ",
     "delete_cmd_prefix": "rm(",
     "library": "var_list.r",
     "varRefreshCmd": "cat(var_dic_list()) "
    }
   },
   "types_to_exclude": [
    "module",
    "function",
    "builtin_function_or_method",
    "instance",
    "_Feature"
   ],
   "window_display": false
  }
 },
 "nbformat": 4,
 "nbformat_minor": 5
}
