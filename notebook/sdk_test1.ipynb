{
 "cells": [
  {
   "cell_type": "code",
   "execution_count": 1,
   "id": "905012c3",
   "metadata": {
    "scrolled": true
   },
   "outputs": [
    {
     "data": {
      "text/html": [
       "<style>.container { width:100% !important; }</style>"
      ],
      "text/plain": [
       "<IPython.core.display.HTML object>"
      ]
     },
     "metadata": {},
     "output_type": "display_data"
    }
   ],
   "source": [
    "%reload_ext autoreload\n",
    "%autoreload 2\n",
    "from pprint import pprint\n",
    "from IPython.core.display import display, HTML, Markdown\n",
    "import ipywidgets as widgets\n",
    "# %run includeme.ipynb # include a notebook from this same directory\n",
    "display(HTML(\"<style>.container { width:100% !important; }</style>\"))"
   ]
  },
  {
   "cell_type": "code",
   "execution_count": 2,
   "id": "2e4bf7d8",
   "metadata": {
    "scrolled": true
   },
   "outputs": [],
   "source": [
    "# TODO: explain credentials"
   ]
  },
  {
   "cell_type": "code",
   "execution_count": 3,
   "id": "94293ac4",
   "metadata": {
    "scrolled": true
   },
   "outputs": [],
   "source": [
    "# https://boto3.amazonaws.com/v1/documentation/api/latest/guide/quickstart.html"
   ]
  },
  {
   "cell_type": "code",
   "execution_count": 3,
   "id": "1fa4e64f",
   "metadata": {
    "scrolled": true
   },
   "outputs": [],
   "source": [
    "import boto3\n",
    "import base64, json"
   ]
  },
  {
   "cell_type": "markdown",
   "id": "c7ec8d12",
   "metadata": {},
   "source": [
    "## Buckets"
   ]
  },
  {
   "cell_type": "code",
   "execution_count": 5,
   "id": "86a850dc",
   "metadata": {
    "scrolled": true
   },
   "outputs": [],
   "source": [
    "## Let's use Amazon S3\n",
    "s3_client = boto3.resource('s3')\n",
    "## that's just one of the services\n",
    "## for all services, please see\n",
    "## https://boto3.amazonaws.com/v1/documentation/api/latest/reference/services/index.html#available-services"
   ]
  },
  {
   "cell_type": "code",
   "execution_count": 6,
   "id": "1c532725",
   "metadata": {
    "scrolled": true
   },
   "outputs": [],
   "source": [
    "# Print out bucket names\n",
    "#for bucket in s3.buckets.all():\n",
    "#    print(bucket.name)"
   ]
  },
  {
   "cell_type": "code",
   "execution_count": 7,
   "id": "120b85d2",
   "metadata": {
    "scrolled": true
   },
   "outputs": [],
   "source": [
    "bucket_name = \"my-test-bucket\""
   ]
  },
  {
   "cell_type": "code",
   "execution_count": 8,
   "id": "30629be0",
   "metadata": {
    "scrolled": true
   },
   "outputs": [],
   "source": [
    "b = s3_client.Bucket(bucket_name)\n",
    "for obj in b.objects.all():\n",
    "    print(obj)"
   ]
  },
  {
   "cell_type": "code",
   "execution_count": 9,
   "id": "b4830a66",
   "metadata": {
    "scrolled": true
   },
   "outputs": [],
   "source": [
    "iot_client = boto3.client('iot')\n",
    "## as described here: https://boto3.amazonaws.com/v1/documentation/api/latest/reference/services/iot.html#id293"
   ]
  },
  {
   "cell_type": "code",
   "execution_count": 10,
   "id": "a1e4dbd5",
   "metadata": {
    "scrolled": true
   },
   "outputs": [
    {
     "data": {
      "text/plain": [
       "{'ResponseMetadata': {'RequestId': '55670695-527e-4d4d-8d57-05d04022a3db',\n",
       "  'HTTPStatusCode': 200,\n",
       "  'HTTPHeaders': {'date': 'Thu, 17 Feb 2022 17:55:47 GMT',\n",
       "   'content-type': 'application/json',\n",
       "   'content-length': '306',\n",
       "   'connection': 'keep-alive',\n",
       "   'x-amzn-requestid': '55670695-527e-4d4d-8d57-05d04022a3db',\n",
       "   'access-control-allow-origin': '*',\n",
       "   'x-amz-apigw-id': 'NsrVjFvEvHcFw4w=',\n",
       "   'x-amzn-trace-id': 'Root=1-620e8c23-709b17c64a3d437a78d43ce3'},\n",
       "  'RetryAttempts': 0},\n",
       " 'things': [{'thingName': 'thing1',\n",
       "   'thingArn': 'arn:aws:iot:us-west-2:263211956751:thing/thing1',\n",
       "   'attributes': {},\n",
       "   'version': 1},\n",
       "  {'thingName': 'testithingi',\n",
       "   'thingArn': 'arn:aws:iot:us-west-2:263211956751:thing/testithingi',\n",
       "   'attributes': {},\n",
       "   'version': 1}]}"
      ]
     },
     "execution_count": 10,
     "metadata": {},
     "output_type": "execute_result"
    }
   ],
   "source": [
    "## let's see what IoT devices we have\n",
    "iot_client.list_things()"
   ]
  },
  {
   "cell_type": "code",
   "execution_count": 11,
   "id": "72d50484",
   "metadata": {
    "scrolled": true
   },
   "outputs": [],
   "source": [
    "# iot_data_client = boto3.client('iot-data')"
   ]
  },
  {
   "cell_type": "code",
   "execution_count": 12,
   "id": "a4f72a6d",
   "metadata": {
    "scrolled": true
   },
   "outputs": [],
   "source": [
    "# iot_data_client.list_retained_messages() # needs some extra access rights shit.."
   ]
  },
  {
   "cell_type": "code",
   "execution_count": 13,
   "id": "f61e8227",
   "metadata": {
    "scrolled": true
   },
   "outputs": [],
   "source": [
    "# \"Lambda function\" is something that you can call from wherever (backend, API gateway, IoT device) and it get's executed in the cloud\n",
    "# define lambda function in\n",
    "# https://us-west-2.console.aws.amazon.com/lambda/home?region=us-west-2#/functions\n",
    "# give it the name \"myFirstLambda\""
   ]
  },
  {
   "cell_type": "code",
   "execution_count": 9,
   "id": "dd5b15de",
   "metadata": {
    "scrolled": true
   },
   "outputs": [],
   "source": [
    "dynamodb = boto3.resource('dynamodb')"
   ]
  },
  {
   "cell_type": "code",
   "execution_count": 11,
   "id": "4cd3c7b9",
   "metadata": {
    "scrolled": true
   },
   "outputs": [
    {
     "name": "stdout",
     "output_type": "stream",
     "text": [
      "[dynamodb.Table(name='my-test-db')]\n"
     ]
    }
   ],
   "source": [
    "print(list(dynamodb.tables.all()))"
   ]
  },
  {
   "cell_type": "code",
   "execution_count": 17,
   "id": "73c4dbc6",
   "metadata": {
    "scrolled": true
   },
   "outputs": [],
   "source": [
    "table = dynamodb.Table('my-test-db')\n",
    "# this table has the primary key 'prim' : str and sort key 'sortie' : str"
   ]
  },
  {
   "cell_type": "code",
   "execution_count": 19,
   "id": "faef8db8",
   "metadata": {
    "scrolled": true
   },
   "outputs": [
    {
     "name": "stdout",
     "output_type": "stream",
     "text": [
      "{'ResponseMetadata': {'RequestId': '47BQSFGT5U0B3FUT8PGIM138EFVV4KQNSO5AEMVJF66Q9ASUAAJG', 'HTTPStatusCode': 200, 'HTTPHeaders': {'server': 'Server', 'date': 'Fri, 18 Feb 2022 07:29:14 GMT', 'content-type': 'application/x-amz-json-1.0', 'content-length': '2', 'connection': 'keep-alive', 'x-amzn-requestid': '47BQSFGT5U0B3FUT8PGIM138EFVV4KQNSO5AEMVJF66Q9ASUAAJG', 'x-amz-crc32': '2745614147'}, 'RetryAttempts': 0}}\n"
     ]
    }
   ],
   "source": [
    "response = table.put_item(\n",
    "Item = { \n",
    "     'prim': 'eka',\n",
    "     'sortie': 'A',\n",
    "     'Name': 'My Name',\n",
    "     'Email': 'My Email'\n",
    "       }\n",
    ")\n",
    "print(response)"
   ]
  },
  {
   "cell_type": "markdown",
   "id": "34e3d76a",
   "metadata": {},
   "source": [
    "## Lambda"
   ]
  },
  {
   "cell_type": "code",
   "execution_count": 14,
   "id": "85cdd6ab",
   "metadata": {
    "scrolled": true
   },
   "outputs": [],
   "source": [
    "# https://boto3.amazonaws.com/v1/documentation/api/latest/reference/services/lambda.html\n",
    "lambda_client = boto3.client('lambda')"
   ]
  },
  {
   "cell_type": "code",
   "execution_count": 15,
   "id": "637d3987",
   "metadata": {
    "scrolled": true
   },
   "outputs": [],
   "source": [
    "response = lambda_client.invoke(\n",
    "    FunctionName='myFirstLambda',\n",
    "    InvocationType='RequestResponse'\n",
    ")"
   ]
  },
  {
   "cell_type": "code",
   "execution_count": 16,
   "id": "b9769440",
   "metadata": {
    "scrolled": true
   },
   "outputs": [
    {
     "name": "stdout",
     "output_type": "stream",
     "text": [
      "b'{\"statusCode\": 200, \"body\": \"\\\\\"Hello from Lambda!\\\\\"\"}'\n"
     ]
    }
   ],
   "source": [
    "print(response[\"Payload\"].read())"
   ]
  },
  {
   "cell_type": "code",
   "execution_count": 17,
   "id": "76f710b7",
   "metadata": {
    "scrolled": true
   },
   "outputs": [
    {
     "name": "stdout",
     "output_type": "stream",
     "text": [
      "a20qyadf9v1i2e-ats.iot.us-west-2.amazonaws.com\n"
     ]
    }
   ],
   "source": [
    "response = iot_client.describe_endpoint(\n",
    "    endpointType='iot:Data-ATS'\n",
    ")\n",
    "print(response[\"endpointAddress\"])\n",
    "end_point_adr = response[\"endpointAddress\"]"
   ]
  },
  {
   "cell_type": "code",
   "execution_count": 20,
   "id": "80eb53c7",
   "metadata": {
    "scrolled": true
   },
   "outputs": [
    {
     "data": {
      "text/plain": [
       "s3.Object(bucket_name='my-test-bucket', key='somefile.txt')"
      ]
     },
     "execution_count": 20,
     "metadata": {},
     "output_type": "execute_result"
    }
   ],
   "source": [
    "# create a file into the bucket\n",
    "b.put_object(\n",
    "    Body=\"kokkelis\".encode(\"utf-8\"),\n",
    "    # Bucket=bucket_name,\n",
    "    Key=\"somefile.txt\"\n",
    ")"
   ]
  },
  {
   "cell_type": "code",
   "execution_count": null,
   "id": "953004d0",
   "metadata": {
    "scrolled": true
   },
   "outputs": [],
   "source": []
  }
 ],
 "metadata": {
  "kernelspec": {
   "display_name": "Python 3",
   "language": "python",
   "name": "python3"
  },
  "language_info": {
   "codemirror_mode": {
    "name": "ipython",
    "version": 3
   },
   "file_extension": ".py",
   "mimetype": "text/x-python",
   "name": "python",
   "nbconvert_exporter": "python",
   "pygments_lexer": "ipython3",
   "version": "3.8.10"
  },
  "varInspector": {
   "cols": {
    "lenName": 16,
    "lenType": 16,
    "lenVar": 40
   },
   "kernels_config": {
    "python": {
     "delete_cmd_postfix": "",
     "delete_cmd_prefix": "del ",
     "library": "var_list.py",
     "varRefreshCmd": "print(var_dic_list())"
    },
    "r": {
     "delete_cmd_postfix": ") ",
     "delete_cmd_prefix": "rm(",
     "library": "var_list.r",
     "varRefreshCmd": "cat(var_dic_list()) "
    }
   },
   "types_to_exclude": [
    "module",
    "function",
    "builtin_function_or_method",
    "instance",
    "_Feature"
   ],
   "window_display": false
  }
 },
 "nbformat": 4,
 "nbformat_minor": 5
}
