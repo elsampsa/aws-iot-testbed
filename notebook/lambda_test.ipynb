{
 "cells": [
  {
   "cell_type": "code",
   "execution_count": null,
   "id": "f0a39b36",
   "metadata": {},
   "outputs": [],
   "source": [
    "%reload_ext autoreload\n",
    "%autoreload 2\n",
    "from pprint import pprint\n",
    "from IPython.core.display import display, HTML, Markdown\n",
    "import ipywidgets as widgets\n",
    "# %run includeme.ipynb # include a notebook from this same directory\n",
    "display(HTML(\"<style>.container { width:100% !important; }</style>\"))"
   ]
  },
  {
   "cell_type": "code",
   "execution_count": null,
   "id": "95278425",
   "metadata": {},
   "outputs": [],
   "source": [
    "import boto3\n",
    "import base64, json"
   ]
  },
  {
   "cell_type": "markdown",
   "id": "6266fd91",
   "metadata": {},
   "source": [
    "## Part 1"
   ]
  },
  {
   "cell_type": "code",
   "execution_count": null,
   "id": "f9fe2e24",
   "metadata": {},
   "outputs": [],
   "source": [
    "region = boto3.session.Session().region_name\n",
    "account_id = boto3.resource('iam').CurrentUser().arn.split(':')[4]\n",
    "print(region)\n",
    "print(account_id)"
   ]
  },
  {
   "cell_type": "markdown",
   "id": "8ff04cdb",
   "metadata": {},
   "source": [
    "Create this lambda using the aws lambda console:\n",
    "```\n",
    "import json\n",
    "\n",
    "def lambda_handler(event, context):\n",
    "    # TODO implement\n",
    "    return {\n",
    "        'statusCode': 200,\n",
    "        'body': json.dumps('Hello from Lambda!')\n",
    "    }\n",
    "```"
   ]
  },
  {
   "cell_type": "code",
   "execution_count": null,
   "id": "f871b633",
   "metadata": {},
   "outputs": [],
   "source": [
    "print(\"here is your link to manage lambdas:\")\n",
    "print(\"https://{region}.console.aws.amazon.com/lambda/home\".format(region=region))"
   ]
  },
  {
   "cell_type": "code",
   "execution_count": null,
   "id": "2c088a35",
   "metadata": {},
   "outputs": [],
   "source": [
    "lambda_client = boto3.client('lambda')"
   ]
  },
  {
   "cell_type": "code",
   "execution_count": null,
   "id": "5431d86e",
   "metadata": {},
   "outputs": [],
   "source": [
    "response = lambda_client.invoke(\n",
    "    FunctionName='myFirstLambda',\n",
    "    InvocationType='RequestResponse'\n",
    ")\n",
    "print(response[\"Payload\"].read())"
   ]
  },
  {
   "cell_type": "markdown",
   "id": "7d6e2452",
   "metadata": {},
   "source": [
    "## Part 2"
   ]
  },
  {
   "cell_type": "markdown",
   "id": "cedd0aea",
   "metadata": {},
   "source": [
    "The next lambda function takes the message and writes it into a bucket.\n",
    "\n",
    "For this to succeed, the following policy must be included into the lambda function's role:\n",
    "```\n",
    "{\n",
    "    \"Version\": \"2012-10-17\",\n",
    "    \"Statement\": [\n",
    "        {\n",
    "            \"Effect\": \"Allow\",\n",
    "            \"Action\": [\n",
    "                \"s3:ListBucket\"\n",
    "            ],\n",
    "            \"Resource\": \"arn:aws:s3:::my-test-bucket\"\n",
    "        },\n",
    "        {\n",
    "            \"Effect\": \"Allow\",\n",
    "            \"Action\": [\n",
    "                \"s3:GetObject\"\n",
    "            ],\n",
    "            \"Resource\": \"arn:aws:s3:::my-test-bucket/*\"\n",
    "        },\n",
    "        {\n",
    "            \"Effect\": \"Allow\",\n",
    "            \"Action\": [\n",
    "                \"s3:PutObject\"\n",
    "            ],\n",
    "            \"Resource\": \"arn:aws:s3:::my-test-bucket/*\"\n",
    "        }\n",
    "    ]\n",
    "}\n",
    "```"
   ]
  },
  {
   "cell_type": "code",
   "execution_count": null,
   "id": "aeeaa8a5",
   "metadata": {},
   "outputs": [],
   "source": [
    "event = {}\n",
    "event[\"message\"] = \"a test from notebook\"\n",
    "event[\"count\"] = 10000"
   ]
  },
  {
   "cell_type": "code",
   "execution_count": null,
   "id": "4de55662",
   "metadata": {},
   "outputs": [],
   "source": [
    "response = lambda_client.invoke(\n",
    "    FunctionName='mqttMessageFormatter',\n",
    "    InvocationType='RequestResponse',\n",
    "    Payload=json.dumps(event)\n",
    ")\n",
    "print(response[\"Payload\"].read())"
   ]
  },
  {
   "cell_type": "markdown",
   "id": "4f5f808d",
   "metadata": {},
   "source": [
    "## Part 3\n",
    "\n",
    "use lambda to write into dynamodb.\n",
    "\n",
    "For this to succeed, the lambdadb needs the following policy:\n",
    "```\n",
    "{\n",
    "    \"Version\": \"2012-10-17\",\n",
    "    \"Statement\": [\n",
    "        {\n",
    "            \"Effect\": \"Allow\",\n",
    "            \"Action\": [\n",
    "                \"dynamodb:BatchGetItem\",\n",
    "                \"dynamodb:GetItem\",\n",
    "                \"dynamodb:Query\",\n",
    "                \"dynamodb:Scan\",\n",
    "                \"dynamodb:BatchWriteItem\",\n",
    "                \"dynamodb:PutItem\",\n",
    "                \"dynamodb:UpdateItem\"\n",
    "            ],\n",
    "            \"Resource\": \"arn:aws:dynamodb:us-west-2:263211xxxxxx:table/my-test-db\"\n",
    "        }\n",
    "    ]\n",
    "}\n",
    "```"
   ]
  },
  {
   "cell_type": "code",
   "execution_count": null,
   "id": "cb4beed0",
   "metadata": {},
   "outputs": [],
   "source": [
    "event = {}\n",
    "event[\"message\"] = \"a test from notebook\"\n",
    "event[\"count\"] = 10000"
   ]
  },
  {
   "cell_type": "code",
   "execution_count": null,
   "id": "de70e157",
   "metadata": {},
   "outputs": [],
   "source": [
    "response = lambda_client.invoke(\n",
    "    FunctionName='mqttMessageFormatter2',\n",
    "    InvocationType='RequestResponse',\n",
    "    Payload=json.dumps(event)\n",
    ")\n",
    "print(response[\"Payload\"].read())"
   ]
  },
  {
   "cell_type": "code",
   "execution_count": null,
   "id": "59049973",
   "metadata": {},
   "outputs": [],
   "source": []
  }
 ],
 "metadata": {
  "kernelspec": {
   "display_name": "Python 3",
   "language": "python",
   "name": "python3"
  },
  "language_info": {
   "codemirror_mode": {
    "name": "ipython",
    "version": 3
   },
   "file_extension": ".py",
   "mimetype": "text/x-python",
   "name": "python",
   "nbconvert_exporter": "python",
   "pygments_lexer": "ipython3",
   "version": "3.8.10"
  },
  "varInspector": {
   "cols": {
    "lenName": 16,
    "lenType": 16,
    "lenVar": 40
   },
   "kernels_config": {
    "python": {
     "delete_cmd_postfix": "",
     "delete_cmd_prefix": "del ",
     "library": "var_list.py",
     "varRefreshCmd": "print(var_dic_list())"
    },
    "r": {
     "delete_cmd_postfix": ") ",
     "delete_cmd_prefix": "rm(",
     "library": "var_list.r",
     "varRefreshCmd": "cat(var_dic_list()) "
    }
   },
   "types_to_exclude": [
    "module",
    "function",
    "builtin_function_or_method",
    "instance",
    "_Feature"
   ],
   "window_display": false
  }
 },
 "nbformat": 4,
 "nbformat_minor": 5
}
