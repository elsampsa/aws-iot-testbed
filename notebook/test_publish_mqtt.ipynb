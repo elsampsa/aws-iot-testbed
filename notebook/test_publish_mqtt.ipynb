{
 "cells": [
  {
   "cell_type": "code",
   "execution_count": null,
   "id": "c9d66eb4",
   "metadata": {},
   "outputs": [],
   "source": [
    "%reload_ext autoreload\n",
    "%autoreload 2\n",
    "from pprint import pprint\n",
    "from IPython.core.display import display, HTML, Markdown\n",
    "import ipywidgets as widgets\n",
    "# %run includeme.ipynb # include a notebook from this same directory\n",
    "display(HTML(\"<style>.container { width:100% !important; }</style>\"))"
   ]
  },
  {
   "cell_type": "code",
   "execution_count": null,
   "id": "526cce0d",
   "metadata": {},
   "outputs": [],
   "source": [
    "import boto3\n",
    "import base64, json\n",
    "import requests"
   ]
  },
  {
   "cell_type": "code",
   "execution_count": null,
   "id": "268963d9",
   "metadata": {},
   "outputs": [],
   "source": [
    "region = boto3.session.Session().region_name\n",
    "account_id = boto3.resource('iam').CurrentUser().arn.split(':')[4]\n",
    "print(region)\n",
    "print(account_id)"
   ]
  },
  {
   "cell_type": "code",
   "execution_count": null,
   "id": "13f17db4",
   "metadata": {},
   "outputs": [],
   "source": [
    "\"\"\"This will crasssh with an SSL certificate error\n",
    "client = boto3.client('iot-data') # , region_name=region)\n",
    "# client = boto3.client('iot') # , region_name=region)\n",
    "# publish mqtt message\n",
    "response = client.publish(\n",
    "    topic='kikkelis/kokkelis',\n",
    "    qos=1,\n",
    "    payload=json.dumps({\"foo\":\"bar\"})\n",
    ")\n",
    "\"\"\""
   ]
  },
  {
   "cell_type": "markdown",
   "id": "055482e0",
   "metadata": {},
   "source": [
    "You might need to set the following rights:\n",
    "```\n",
    "{\n",
    "    \"Version\": \"2012-10-17\",\n",
    "    \"Statement\": [\n",
    "        {\n",
    "            \"Effect\": \"Allow\",\n",
    "            \"Action\": [\n",
    "                \"iot:Publish\"\n",
    "            ],\n",
    "            \"Resource\": [\n",
    "                \"*\"\n",
    "            ]\n",
    "        },\n",
    "        {\n",
    "            \"Effect\": \"Allow\",\n",
    "            \"Action\": [\n",
    "                \"iot:Connect\"\n",
    "            ],\n",
    "            \"Resource\": [\n",
    "                \"*\"\n",
    "            ]\n",
    "        }\n",
    "    ]\n",
    "}\n",
    "```"
   ]
  },
  {
   "cell_type": "code",
   "execution_count": null,
   "id": "ee7681df",
   "metadata": {},
   "outputs": [],
   "source": [
    "# as per https://stackoverflow.com/questions/65285525/ssl-certificate-verify-failed-error-when-publish-mqtt-aws-iot\n",
    "\n",
    "def get_aws_iot_ats_endpoint():\n",
    "    \"\"\"\n",
    "    Get the \"Data-ATS\" endpoint instead of the\n",
    "    untrusted \"Symantec\" endpoint that's built-in.\n",
    "    \"\"\"\n",
    "    iot_client = boto3.client(\n",
    "        \"iot\",\n",
    "        #aws_access_key_id=AWS_ACCESS_KEY_ID,\n",
    "        #aws_secret_access_key=AWS_SECRET_ACCESS_KEY,\n",
    "        #region_name= REGION_NAME,\n",
    "        verify=True\n",
    "    )\n",
    "    details = iot_client.describe_endpoint(endpointType=\"iot:Data-ATS\")\n",
    "    host = details.get(\"endpointAddress\")\n",
    "    return f\"https://{host}\"\n",
    "\n",
    "\n",
    "IOT_DATA_ENDPOINT = get_aws_iot_ats_endpoint()\n",
    "\n",
    "client_iot = boto3.client(\n",
    "    \"iot-data\",\n",
    "    #aws_access_key_id=AWS_ACCESS_KEY_ID,\n",
    "    #aws_secret_access_key=AWS_SECRET_ACCESS_KEY,\n",
    "    #region_name= REGION_NAME,\n",
    "    verify=True,\n",
    "    endpoint_url=IOT_DATA_ENDPOINT\n",
    ")"
   ]
  },
  {
   "cell_type": "code",
   "execution_count": null,
   "id": "a200ecc5",
   "metadata": {},
   "outputs": [],
   "source": [
    "# print(response)"
   ]
  },
  {
   "cell_type": "markdown",
   "id": "7aac299b",
   "metadata": {},
   "source": [
    "We have created an IoT trigger that sends the data in the MQTT message to a lambda function.\n",
    "\n",
    "The lambda function then writes the contents of the file into a new file in a bucket.\n",
    "\n",
    "Just attach this trigger to the lambda function ``SELECT * FROM 'kikkelis/kokkelis'`` => when there is message in channel ``kikkelis/kokkelis``\n",
    "the payload is passed as-is to the lambda."
   ]
  },
  {
   "cell_type": "code",
   "execution_count": null,
   "id": "08c47d42",
   "metadata": {},
   "outputs": [],
   "source": [
    "response = client_iot.publish(\n",
    "    topic='kikkelis/kokkelis',\n",
    "    qos=1,\n",
    "    payload=json.dumps({\n",
    "        \"message\":\"from mqtt\",\n",
    "        \"count\" : 119911\n",
    "    })\n",
    ")"
   ]
  },
  {
   "cell_type": "code",
   "execution_count": null,
   "id": "4fc44456",
   "metadata": {},
   "outputs": [],
   "source": []
  }
 ],
 "metadata": {
  "kernelspec": {
   "display_name": "Python 3",
   "language": "python",
   "name": "python3"
  },
  "language_info": {
   "codemirror_mode": {
    "name": "ipython",
    "version": 3
   },
   "file_extension": ".py",
   "mimetype": "text/x-python",
   "name": "python",
   "nbconvert_exporter": "python",
   "pygments_lexer": "ipython3",
   "version": "3.8.10"
  },
  "varInspector": {
   "cols": {
    "lenName": 16,
    "lenType": 16,
    "lenVar": 40
   },
   "kernels_config": {
    "python": {
     "delete_cmd_postfix": "",
     "delete_cmd_prefix": "del ",
     "library": "var_list.py",
     "varRefreshCmd": "print(var_dic_list())"
    },
    "r": {
     "delete_cmd_postfix": ") ",
     "delete_cmd_prefix": "rm(",
     "library": "var_list.r",
     "varRefreshCmd": "cat(var_dic_list()) "
    }
   },
   "types_to_exclude": [
    "module",
    "function",
    "builtin_function_or_method",
    "instance",
    "_Feature"
   ],
   "window_display": false
  }
 },
 "nbformat": 4,
 "nbformat_minor": 5
}
